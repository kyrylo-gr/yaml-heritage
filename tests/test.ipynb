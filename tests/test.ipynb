{
 "cells": [
  {
   "cell_type": "code",
   "execution_count": 3,
   "metadata": {},
   "outputs": [],
   "source": [
    "from labmate.utils import autoreload"
   ]
  },
  {
   "cell_type": "code",
   "execution_count": 4,
   "metadata": {},
   "outputs": [
    {
     "name": "stdout",
     "output_type": "stream",
     "text": [
      "{'__annotations__': dict[str, type], 'a': <class 'int'>}\n",
      "{'__annotations__': dict[str, type], 'a': <class 'int'>}\n"
     ]
    }
   ],
   "source": [
    "class Test: \n",
    "    __annotations__: dict[str, type]\n",
    "    a: int = 1\n",
    "    def __init__(self) -> None:\n",
    "        b: int = 2\n",
    "\n",
    "try:\n",
    "    print(Test().__annotations__)\n",
    "except AttributeError:\n",
    "    print(\"instance error\")\n",
    "        \n",
    "try:\n",
    "    print(Test.__annotations__)\n",
    "except AttributeError:\n",
    "    print(\"class error\")"
   ]
  },
  {
   "cell_type": "code",
   "execution_count": 5,
   "metadata": {},
   "outputs": [
    {
     "name": "stdout",
     "output_type": "stream",
     "text": [
      "{'a': 2, 'b': {'c': 3, 'd': 4}}\n",
      "{'a': 2, 'b': {'c': 3, 'd': 4}}\n"
     ]
    }
   ],
   "source": [
    "from copy import deepcopy\n",
    "\n",
    "\n",
    "def complete_dict(sub_dict):\n",
    "    \"\"\"Helper function to handle '.' definition of element in variations.\n",
    "\n",
    "    Args:\n",
    "        sub_dict (Dict[str, Any]): Dictionnary taken from variation.\n",
    "\n",
    "    Returns:\n",
    "        Dict[str, Any]: Dictionnary completed with full structure.\n",
    "    \"\"\"\n",
    "    sub_dict = deepcopy(sub_dict)\n",
    "    full_dict = {}\n",
    "\n",
    "    for key, val in list(sub_dict.items()):\n",
    "        if \".\" not in key:\n",
    "            full_dict[key] = val\n",
    "            continue\n",
    "        splt = key.split(\".\")\n",
    "        local = full_dict\n",
    "        for k in splt[:-1]:\n",
    "            local = local.setdefault(k, {})\n",
    "        local[splt[-1]] = val\n",
    "    return full_dict\n",
    "\n",
    "a = complete_dict({'a':1, 'b.c': 3, 'b.d': 4})\n",
    "b = a\n",
    "b['a'] = 2\n",
    "print(a)\n",
    "print(b)"
   ]
  },
  {
   "cell_type": "code",
   "execution_count": 6,
   "metadata": {},
   "outputs": [],
   "source": [
    "a = {}\n",
    "b = a.setdefault(\"a\", {''})\n",
    "b = a.setdefault(\"a\", {})"
   ]
  },
  {
   "cell_type": "code",
   "execution_count": 7,
   "metadata": {},
   "outputs": [],
   "source": [
    "b = {'b':3}\n",
    "a = {'a':2}"
   ]
  },
  {
   "cell_type": "code",
   "execution_count": 8,
   "metadata": {},
   "outputs": [],
   "source": [
    "def upd(d):\n",
    "    d['a']=1"
   ]
  },
  {
   "cell_type": "code",
   "execution_count": 9,
   "metadata": {},
   "outputs": [
    {
     "data": {
      "text/plain": [
       "{'a': 1}"
      ]
     },
     "execution_count": 9,
     "metadata": {},
     "output_type": "execute_result"
    }
   ],
   "source": [
    "upd(a)\n",
    "a"
   ]
  },
  {
   "cell_type": "code",
   "execution_count": 10,
   "metadata": {},
   "outputs": [],
   "source": [
    "a.update(**b)"
   ]
  },
  {
   "cell_type": "code",
   "execution_count": 11,
   "metadata": {},
   "outputs": [
    {
     "data": {
      "text/plain": [
       "{'a': 1, 'b': 3}"
      ]
     },
     "execution_count": 11,
     "metadata": {},
     "output_type": "execute_result"
    }
   ],
   "source": [
    "a"
   ]
  },
  {
   "cell_type": "code",
   "execution_count": 12,
   "metadata": {},
   "outputs": [],
   "source": [
    "b['b']=2"
   ]
  },
  {
   "cell_type": "code",
   "execution_count": 13,
   "metadata": {},
   "outputs": [
    {
     "data": {
      "text/plain": [
       "{'a': 1, 'b': 3}"
      ]
     },
     "execution_count": 13,
     "metadata": {},
     "output_type": "execute_result"
    }
   ],
   "source": [
    "a"
   ]
  },
  {
   "cell_type": "code",
   "execution_count": 14,
   "metadata": {},
   "outputs": [],
   "source": [
    "def test1():\n",
    "    full_dict = {}\n",
    "    k = \"123\"\n",
    "    if k not in full_dict:\n",
    "        full_dict[k] = {}\n",
    "\n",
    "def test2():\n",
    "    full_dict = {}\n",
    "    k = \"123\"\n",
    "    full_dict.setdefault(k, {})"
   ]
  },
  {
   "cell_type": "code",
   "execution_count": 15,
   "metadata": {},
   "outputs": [
    {
     "name": "stdout",
     "output_type": "stream",
     "text": [
      "167 ns ± 32.6 ns per loop (mean ± std. dev. of 7 runs, 10,000,000 loops each)\n"
     ]
    }
   ],
   "source": [
    "%timeit test1()"
   ]
  },
  {
   "cell_type": "code",
   "execution_count": 16,
   "metadata": {},
   "outputs": [
    {
     "ename": "KeyboardInterrupt",
     "evalue": "",
     "output_type": "error",
     "traceback": [
      "\u001b[0;31m---------------------------------------------------------------------------\u001b[0m",
      "\u001b[0;31mKeyboardInterrupt\u001b[0m                         Traceback (most recent call last)",
      "Cell \u001b[0;32mIn[16], line 1\u001b[0m\n\u001b[0;32m----> 1\u001b[0m get_ipython()\u001b[39m.\u001b[39;49mrun_line_magic(\u001b[39m'\u001b[39;49m\u001b[39mtimeit\u001b[39;49m\u001b[39m'\u001b[39;49m, \u001b[39m'\u001b[39;49m\u001b[39mtest2()\u001b[39;49m\u001b[39m'\u001b[39;49m)\n",
      "File \u001b[0;32m~/anaconda3/envs/phd-main/lib/python3.10/site-packages/IPython/core/interactiveshell.py:2417\u001b[0m, in \u001b[0;36mInteractiveShell.run_line_magic\u001b[0;34m(self, magic_name, line, _stack_depth)\u001b[0m\n\u001b[1;32m   2415\u001b[0m     kwargs[\u001b[39m'\u001b[39m\u001b[39mlocal_ns\u001b[39m\u001b[39m'\u001b[39m] \u001b[39m=\u001b[39m \u001b[39mself\u001b[39m\u001b[39m.\u001b[39mget_local_scope(stack_depth)\n\u001b[1;32m   2416\u001b[0m \u001b[39mwith\u001b[39;00m \u001b[39mself\u001b[39m\u001b[39m.\u001b[39mbuiltin_trap:\n\u001b[0;32m-> 2417\u001b[0m     result \u001b[39m=\u001b[39m fn(\u001b[39m*\u001b[39;49margs, \u001b[39m*\u001b[39;49m\u001b[39m*\u001b[39;49mkwargs)\n\u001b[1;32m   2419\u001b[0m \u001b[39m# The code below prevents the output from being displayed\u001b[39;00m\n\u001b[1;32m   2420\u001b[0m \u001b[39m# when using magics with decodator @output_can_be_silenced\u001b[39;00m\n\u001b[1;32m   2421\u001b[0m \u001b[39m# when the last Python token in the expression is a ';'.\u001b[39;00m\n\u001b[1;32m   2422\u001b[0m \u001b[39mif\u001b[39;00m \u001b[39mgetattr\u001b[39m(fn, magic\u001b[39m.\u001b[39mMAGIC_OUTPUT_CAN_BE_SILENCED, \u001b[39mFalse\u001b[39;00m):\n",
      "File \u001b[0;32m~/anaconda3/envs/phd-main/lib/python3.10/site-packages/IPython/core/magics/execution.py:1174\u001b[0m, in \u001b[0;36mExecutionMagics.timeit\u001b[0;34m(self, line, cell, local_ns)\u001b[0m\n\u001b[1;32m   1171\u001b[0m         \u001b[39mif\u001b[39;00m time_number \u001b[39m>\u001b[39m\u001b[39m=\u001b[39m \u001b[39m0.2\u001b[39m:\n\u001b[1;32m   1172\u001b[0m             \u001b[39mbreak\u001b[39;00m\n\u001b[0;32m-> 1174\u001b[0m all_runs \u001b[39m=\u001b[39m timer\u001b[39m.\u001b[39;49mrepeat(repeat, number)\n\u001b[1;32m   1175\u001b[0m best \u001b[39m=\u001b[39m \u001b[39mmin\u001b[39m(all_runs) \u001b[39m/\u001b[39m number\n\u001b[1;32m   1176\u001b[0m worst \u001b[39m=\u001b[39m \u001b[39mmax\u001b[39m(all_runs) \u001b[39m/\u001b[39m number\n",
      "File \u001b[0;32m~/anaconda3/envs/phd-main/lib/python3.10/timeit.py:206\u001b[0m, in \u001b[0;36mTimer.repeat\u001b[0;34m(self, repeat, number)\u001b[0m\n\u001b[1;32m    204\u001b[0m r \u001b[39m=\u001b[39m []\n\u001b[1;32m    205\u001b[0m \u001b[39mfor\u001b[39;00m i \u001b[39min\u001b[39;00m \u001b[39mrange\u001b[39m(repeat):\n\u001b[0;32m--> 206\u001b[0m     t \u001b[39m=\u001b[39m \u001b[39mself\u001b[39;49m\u001b[39m.\u001b[39;49mtimeit(number)\n\u001b[1;32m    207\u001b[0m     r\u001b[39m.\u001b[39mappend(t)\n\u001b[1;32m    208\u001b[0m \u001b[39mreturn\u001b[39;00m r\n",
      "File \u001b[0;32m~/anaconda3/envs/phd-main/lib/python3.10/site-packages/IPython/core/magics/execution.py:158\u001b[0m, in \u001b[0;36mTimer.timeit\u001b[0;34m(self, number)\u001b[0m\n\u001b[1;32m    156\u001b[0m gc\u001b[39m.\u001b[39mdisable()\n\u001b[1;32m    157\u001b[0m \u001b[39mtry\u001b[39;00m:\n\u001b[0;32m--> 158\u001b[0m     timing \u001b[39m=\u001b[39m \u001b[39mself\u001b[39;49m\u001b[39m.\u001b[39;49minner(it, \u001b[39mself\u001b[39;49m\u001b[39m.\u001b[39;49mtimer)\n\u001b[1;32m    159\u001b[0m \u001b[39mfinally\u001b[39;00m:\n\u001b[1;32m    160\u001b[0m     \u001b[39mif\u001b[39;00m gcold:\n",
      "File \u001b[0;32m<magic-timeit>:1\u001b[0m, in \u001b[0;36minner\u001b[0;34m(_it, _timer)\u001b[0m\n",
      "Cell \u001b[0;32mIn[14], line 7\u001b[0m, in \u001b[0;36mtest2\u001b[0;34m()\u001b[0m\n\u001b[1;32m      4\u001b[0m     \u001b[39mif\u001b[39;00m k \u001b[39mnot\u001b[39;00m \u001b[39min\u001b[39;00m full_dict:\n\u001b[1;32m      5\u001b[0m         full_dict[k] \u001b[39m=\u001b[39m {}\n\u001b[0;32m----> 7\u001b[0m \u001b[39mdef\u001b[39;00m \u001b[39mtest2\u001b[39m():\n\u001b[1;32m      8\u001b[0m     full_dict \u001b[39m=\u001b[39m {}\n\u001b[1;32m      9\u001b[0m     k \u001b[39m=\u001b[39m \u001b[39m\"\u001b[39m\u001b[39m123\u001b[39m\u001b[39m\"\u001b[39m\n",
      "\u001b[0;31mKeyboardInterrupt\u001b[0m: "
     ]
    }
   ],
   "source": [
    "%timeit test2()"
   ]
  },
  {
   "cell_type": "code",
   "execution_count": null,
   "metadata": {},
   "outputs": [
    {
     "data": {
      "text/plain": [
       "{'a': 2, 'b': {'c': 3}}"
      ]
     },
     "execution_count": 40,
     "metadata": {},
     "output_type": "execute_result"
    }
   ],
   "source": [
    "a"
   ]
  },
  {
   "cell_type": "code",
   "execution_count": null,
   "metadata": {},
   "outputs": [],
   "source": []
  },
  {
   "cell_type": "code",
   "execution_count": null,
   "metadata": {},
   "outputs": [],
   "source": [
    "import dict_utils"
   ]
  },
  {
   "cell_type": "code",
   "execution_count": null,
   "metadata": {},
   "outputs": [
    {
     "ename": "TypeError",
     "evalue": "unsupported operand type(s) for +: 'dict' and 'dict'",
     "output_type": "error",
     "traceback": [
      "\u001b[0;31m---------------------------------------------------------------------------\u001b[0m",
      "\u001b[0;31mTypeError\u001b[0m                                 Traceback (most recent call last)",
      "Cell \u001b[0;32mIn[41], line 1\u001b[0m\n\u001b[0;32m----> 1\u001b[0m d\u001b[39m=\u001b[39m {\u001b[39m'\u001b[39;49m\u001b[39ma\u001b[39;49m\u001b[39m'\u001b[39;49m:\u001b[39m1\u001b[39;49m, \u001b[39m'\u001b[39;49m\u001b[39mb\u001b[39;49m\u001b[39m'\u001b[39;49m:\u001b[39m2\u001b[39;49m, \u001b[39m'\u001b[39;49m\u001b[39mc\u001b[39;49m\u001b[39m'\u001b[39;49m: {\u001b[39m'\u001b[39;49m\u001b[39me\u001b[39;49m\u001b[39m'\u001b[39;49m: \u001b[39m3\u001b[39;49m, \u001b[39m'\u001b[39;49m\u001b[39md\u001b[39;49m\u001b[39m'\u001b[39;49m: \u001b[39m'\u001b[39;49m\u001b[39m$.b\u001b[39;49m\u001b[39m'\u001b[39;49m}} \u001b[39m+\u001b[39;49m {\u001b[39m'\u001b[39;49m\u001b[39ma\u001b[39;49m\u001b[39m'\u001b[39;49m:\u001b[39m1\u001b[39;49m}\n\u001b[1;32m      2\u001b[0m dict_utils\u001b[39m.\u001b[39mresolve_links(d)\n\u001b[1;32m      3\u001b[0m d\n",
      "\u001b[0;31mTypeError\u001b[0m: unsupported operand type(s) for +: 'dict' and 'dict'"
     ]
    }
   ],
   "source": [
    "d= {'a':1, 'b':2, 'c': {'e': 3, 'd': '$.b'}} + {'a':1}\n",
    "dict_utils.resolve_links(d)\n",
    "d"
   ]
  },
  {
   "cell_type": "code",
   "execution_count": null,
   "metadata": {},
   "outputs": [
    {
     "name": "stderr",
     "output_type": "stream",
     "text": [
      "[autoreload of inherit failed: Traceback (most recent call last):\n",
      "  File \"/Users/4cd87a/anaconda3/envs/phd-main/lib/python3.10/site-packages/IPython/extensions/autoreload.py\", line 276, in check\n",
      "    superreload(m, reload, self.old_objects)\n",
      "  File \"/Users/4cd87a/anaconda3/envs/phd-main/lib/python3.10/site-packages/IPython/extensions/autoreload.py\", line 475, in superreload\n",
      "    module = reload(module)\n",
      "  File \"/Users/4cd87a/anaconda3/envs/phd-main/lib/python3.10/importlib/__init__.py\", line 169, in reload\n",
      "    _bootstrap._exec(spec, module)\n",
      "  File \"<frozen importlib._bootstrap>\", line 619, in _exec\n",
      "  File \"<frozen importlib._bootstrap_external>\", line 883, in exec_module\n",
      "  File \"<frozen importlib._bootstrap>\", line 241, in _call_with_frames_removed\n",
      "  File \"/Users/4cd87a/Documents/Projects/PhD/codes/drawable/drawable/inherit.py\", line 11, in <module>\n",
      "    from . import utils, yaml_utils, dict_utils, populate\n",
      "ImportError: attempted relative import with no known parent package\n",
      "]\n"
     ]
    }
   ],
   "source": [
    "import inherit\n",
    "from typing import Any, Dict, Optional, TypeVar, Union, Generic, Protocol\n",
    "\n",
    "from generic_types import Variable\n"
   ]
  },
  {
   "cell_type": "code",
   "execution_count": null,
   "metadata": {},
   "outputs": [],
   "source": []
  },
  {
   "cell_type": "code",
   "execution_count": null,
   "metadata": {},
   "outputs": [],
   "source": [
    "from yaml_heritage import yaml_utils"
   ]
  },
  {
   "cell_type": "code",
   "execution_count": null,
   "metadata": {},
   "outputs": [
    {
     "data": {
      "text/plain": [
       "{'database': {'server': {'ip': '192.168.1.5', 'port': 2000},\n",
       "  'db_name': 'test',\n",
       "  'user': {'name': 'root', 'password': 'root'},\n",
       "  'number': '123'},\n",
       " 'foo_database': {'server': {'ip': '192.168.1.5', 'port': 2000},\n",
       "  'db_name': 'foo',\n",
       "  'user': {'name': 'root', 'password': 'foo_root'},\n",
       "  'number': '123'}}"
      ]
     },
     "execution_count": 21,
     "metadata": {},
     "output_type": "execute_result"
    }
   ],
   "source": [
    "yaml_utils.load_single_yaml_file('test_link.yaml', 'data')"
   ]
  },
  {
   "cell_type": "code",
   "execution_count": null,
   "metadata": {},
   "outputs": [
    {
     "data": {
      "text/plain": [
       "'data'"
      ]
     },
     "execution_count": 77,
     "metadata": {},
     "output_type": "execute_result"
    }
   ],
   "source": [
    "c._folder"
   ]
  },
  {
   "cell_type": "code",
   "execution_count": null,
   "metadata": {},
   "outputs": [],
   "source": [
    "import yaml_heritage\n",
    "from yaml_heritage import Heritage, Variable"
   ]
  },
  {
   "cell_type": "code",
   "execution_count": null,
   "metadata": {},
   "outputs": [],
   "source": [
    "class Class1(Heritage):\n",
    "    val1: int\n",
    "    val2: int\n",
    "\n",
    "class Class2(Heritage):\n",
    "    class1: Class1\n",
    "    val3: float"
   ]
  },
  {
   "cell_type": "code",
   "execution_count": null,
   "metadata": {},
   "outputs": [
    {
     "data": {
      "text/plain": [
       "789.2"
      ]
     },
     "execution_count": 12,
     "metadata": {},
     "output_type": "execute_result"
    }
   ],
   "source": [
    "c = Class2.load('data', 'test.yaml')\n",
    "c.val3"
   ]
  },
  {
   "cell_type": "code",
   "execution_count": null,
   "metadata": {},
   "outputs": [],
   "source": []
  },
  {
   "cell_type": "code",
   "execution_count": null,
   "metadata": {},
   "outputs": [
    {
     "name": "stdout",
     "output_type": "stream",
     "text": [
      "False\n"
     ]
    },
    {
     "data": {
      "text/plain": [
       "<__main__.Test at 0x104ab32b0>"
      ]
     },
     "execution_count": 25,
     "metadata": {},
     "output_type": "execute_result"
    }
   ],
   "source": [
    "class Test:\n",
    "    param1: int\n",
    "    \n",
    "    def __init__(self) -> None:\n",
    "        print(hasattr(self, 'param1'))\n",
    "        \n",
    "Test()"
   ]
  },
  {
   "cell_type": "code",
   "execution_count": null,
   "metadata": {},
   "outputs": [
    {
     "name": "stdout",
     "output_type": "stream",
     "text": [
      "folded 30 times. Final size = 11.627197265625.\n",
      "thickness = 107374.1824\n"
     ]
    }
   ],
   "source": [
    "square_size = 381_000\n",
    "fold_count = 0\n",
    "while square_size>21:\n",
    "    square_size = square_size/2\n",
    "    fold_count +=2\n",
    "print(f\"folded {fold_count} times. Final size = {square_size}.\")\n",
    "paper_thickness = 100e-6  # to check\n",
    "print(f\"thickness = {paper_thickness*(2**fold_count)}\")"
   ]
  },
  {
   "cell_type": "code",
   "execution_count": null,
   "metadata": {},
   "outputs": [
    {
     "ename": "AttributeError",
     "evalue": "'UnivariateSpline' object has no attribute 'x'",
     "output_type": "error",
     "traceback": [
      "\u001b[0;31m---------------------------------------------------------------------------\u001b[0m",
      "\u001b[0;31mAttributeError\u001b[0m                            Traceback (most recent call last)",
      "Cell \u001b[0;32mIn[20], line 12\u001b[0m\n\u001b[1;32m      9\u001b[0m tck \u001b[39m=\u001b[39m spline\u001b[39m.\u001b[39m_eval_args\n\u001b[1;32m     11\u001b[0m \u001b[39m# Recreate the UnivariateSpline object using the coefficients and the x data\u001b[39;00m\n\u001b[0;32m---> 12\u001b[0m spline_new \u001b[39m=\u001b[39m UnivariateSpline(spline\u001b[39m.\u001b[39;49mx, \u001b[39mNone\u001b[39;00m, k\u001b[39m=\u001b[39mspline\u001b[39m.\u001b[39mk, s\u001b[39m=\u001b[39mspline\u001b[39m.\u001b[39ms)\n\u001b[1;32m     13\u001b[0m spline_new\u001b[39m.\u001b[39m_eval_args \u001b[39m=\u001b[39m tck\n\u001b[1;32m     15\u001b[0m \u001b[39m# Test that the new spline is the same as the original\u001b[39;00m\n",
      "\u001b[0;31mAttributeError\u001b[0m: 'UnivariateSpline' object has no attribute 'x'"
     ]
    }
   ],
   "source": [
    "from scipy.interpolate import UnivariateSpline\n",
    "\n",
    "# Create a UnivariateSpline object\n",
    "x = [1, 2, 3, 4, 5]\n",
    "y = [2, 4, 1, 5, 3]\n",
    "spline = UnivariateSpline(x, y)\n",
    "\n",
    "# Get the coefficients of the UnivariateSpline object\n",
    "tck = spline._eval_args\n",
    "\n",
    "# Recreate the UnivariateSpline object using the coefficients and the x data\n",
    "spline_new = UnivariateSpline(spline.x, None, k=spline.k, s=spline.s)\n",
    "spline_new._eval_args = tck\n",
    "\n",
    "# Test that the new spline is the same as the original\n",
    "assert spline(x).all() == spline_new(x).all()"
   ]
  },
  {
   "cell_type": "code",
   "execution_count": null,
   "metadata": {},
   "outputs": [
    {
     "ename": "AttributeError",
     "evalue": "'UnivariateSpline' object has no attribute 'k'",
     "output_type": "error",
     "traceback": [
      "\u001b[0;31m---------------------------------------------------------------------------\u001b[0m",
      "\u001b[0;31mAttributeError\u001b[0m                            Traceback (most recent call last)",
      "Cell \u001b[0;32mIn[21], line 12\u001b[0m\n\u001b[1;32m      9\u001b[0m tck \u001b[39m=\u001b[39m spline\u001b[39m.\u001b[39m_eval_args\n\u001b[1;32m     11\u001b[0m \u001b[39m# Recreate the UnivariateSpline object using the coefficients and the x data\u001b[39;00m\n\u001b[0;32m---> 12\u001b[0m spline_new \u001b[39m=\u001b[39m UnivariateSpline(spline\u001b[39m.\u001b[39m_data[\u001b[39m0\u001b[39m], \u001b[39mNone\u001b[39;00m, k\u001b[39m=\u001b[39mspline\u001b[39m.\u001b[39;49mk, s\u001b[39m=\u001b[39mspline\u001b[39m.\u001b[39ms)\n\u001b[1;32m     13\u001b[0m spline_new\u001b[39m.\u001b[39m_eval_args \u001b[39m=\u001b[39m tck\n\u001b[1;32m     15\u001b[0m \u001b[39m# Test that the new spline is the same as the original\u001b[39;00m\n",
      "\u001b[0;31mAttributeError\u001b[0m: 'UnivariateSpline' object has no attribute 'k'"
     ]
    }
   ],
   "source": [
    "from scipy.interpolate import UnivariateSpline\n",
    "\n",
    "# Create a UnivariateSpline object\n",
    "x = [1, 2, 3, 4, 5]\n",
    "y = [2, 4, 1, 5, 3]\n",
    "spline = UnivariateSpline(x, y)\n",
    "\n",
    "# Get the coefficients of the UnivariateSpline object\n",
    "tck = spline._eval_args\n",
    "\n",
    "# Recreate the UnivariateSpline object using the coefficients and the x data\n",
    "spline_new = UnivariateSpline(spline._data[0], None, k=spline.k, s=spline.s)\n",
    "spline_new._eval_args = tck\n",
    "\n",
    "# Test that the new spline is the same as the original\n",
    "assert spline(x).all() == spline_new(x).all()"
   ]
  },
  {
   "cell_type": "code",
   "execution_count": null,
   "metadata": {},
   "outputs": [
    {
     "ename": "ValueError",
     "evalue": "x and y should have a same length",
     "output_type": "error",
     "traceback": [
      "\u001b[0;31m---------------------------------------------------------------------------\u001b[0m",
      "\u001b[0;31mValueError\u001b[0m                                Traceback (most recent call last)",
      "Cell \u001b[0;32mIn[22], line 12\u001b[0m\n\u001b[1;32m      9\u001b[0m tck \u001b[39m=\u001b[39m spline\u001b[39m.\u001b[39m_eval_args\n\u001b[1;32m     11\u001b[0m \u001b[39m# Recreate the UnivariateSpline object using the coefficients and the x data\u001b[39;00m\n\u001b[0;32m---> 12\u001b[0m spline_new \u001b[39m=\u001b[39m UnivariateSpline(spline\u001b[39m.\u001b[39;49m_data[\u001b[39m0\u001b[39;49m], \u001b[39mNone\u001b[39;49;00m, k\u001b[39m=\u001b[39;49mspline\u001b[39m.\u001b[39;49m_data[\u001b[39m2\u001b[39;49m], s\u001b[39m=\u001b[39;49mspline\u001b[39m.\u001b[39;49m_data[\u001b[39m3\u001b[39;49m])\n\u001b[1;32m     13\u001b[0m spline_new\u001b[39m.\u001b[39m_eval_args \u001b[39m=\u001b[39m tck\n\u001b[1;32m     15\u001b[0m \u001b[39m# Test that the new spline is the same as the original\u001b[39;00m\n",
      "File \u001b[0;32m~/anaconda3/envs/phd-main/lib/python3.10/site-packages/scipy-1.11.0rc1-py3.10-macosx-11.1-arm64.egg/scipy/interpolate/_fitpack2.py:232\u001b[0m, in \u001b[0;36mUnivariateSpline.__init__\u001b[0;34m(self, x, y, w, bbox, k, s, ext, check_finite)\u001b[0m\n\u001b[1;32m    229\u001b[0m \u001b[39mdef\u001b[39;00m \u001b[39m__init__\u001b[39m(\u001b[39mself\u001b[39m, x, y, w\u001b[39m=\u001b[39m\u001b[39mNone\u001b[39;00m, bbox\u001b[39m=\u001b[39m[\u001b[39mNone\u001b[39;00m]\u001b[39m*\u001b[39m\u001b[39m2\u001b[39m, k\u001b[39m=\u001b[39m\u001b[39m3\u001b[39m, s\u001b[39m=\u001b[39m\u001b[39mNone\u001b[39;00m,\n\u001b[1;32m    230\u001b[0m              ext\u001b[39m=\u001b[39m\u001b[39m0\u001b[39m, check_finite\u001b[39m=\u001b[39m\u001b[39mFalse\u001b[39;00m):\n\u001b[0;32m--> 232\u001b[0m     x, y, w, bbox, \u001b[39mself\u001b[39m\u001b[39m.\u001b[39mext \u001b[39m=\u001b[39m \u001b[39mself\u001b[39;49m\u001b[39m.\u001b[39;49mvalidate_input(x, y, w, bbox, k, s, ext,\n\u001b[1;32m    233\u001b[0m                                                   check_finite)\n\u001b[1;32m    235\u001b[0m     \u001b[39m# _data == x,y,w,xb,xe,k,s,n,t,c,fp,fpint,nrdata,ier\u001b[39;00m\n\u001b[1;32m    236\u001b[0m     data \u001b[39m=\u001b[39m dfitpack\u001b[39m.\u001b[39mfpcurf0(x, y, k, w\u001b[39m=\u001b[39mw, xb\u001b[39m=\u001b[39mbbox[\u001b[39m0\u001b[39m],\n\u001b[1;32m    237\u001b[0m                             xe\u001b[39m=\u001b[39mbbox[\u001b[39m1\u001b[39m], s\u001b[39m=\u001b[39ms)\n",
      "File \u001b[0;32m~/anaconda3/envs/phd-main/lib/python3.10/site-packages/scipy-1.11.0rc1-py3.10-macosx-11.1-arm64.egg/scipy/interpolate/_fitpack2.py:262\u001b[0m, in \u001b[0;36mUnivariateSpline.validate_input\u001b[0;34m(x, y, w, bbox, k, s, ext, check_finite)\u001b[0m\n\u001b[1;32m    260\u001b[0m         \u001b[39mraise\u001b[39;00m \u001b[39mValueError\u001b[39;00m(\u001b[39m\"\u001b[39m\u001b[39mx must be strictly increasing if s = 0\u001b[39m\u001b[39m\"\u001b[39m)\n\u001b[1;32m    261\u001b[0m \u001b[39mif\u001b[39;00m x\u001b[39m.\u001b[39msize \u001b[39m!=\u001b[39m y\u001b[39m.\u001b[39msize:\n\u001b[0;32m--> 262\u001b[0m     \u001b[39mraise\u001b[39;00m \u001b[39mValueError\u001b[39;00m(\u001b[39m\"\u001b[39m\u001b[39mx and y should have a same length\u001b[39m\u001b[39m\"\u001b[39m)\n\u001b[1;32m    263\u001b[0m \u001b[39melif\u001b[39;00m w \u001b[39mis\u001b[39;00m \u001b[39mnot\u001b[39;00m \u001b[39mNone\u001b[39;00m \u001b[39mand\u001b[39;00m \u001b[39mnot\u001b[39;00m x\u001b[39m.\u001b[39msize \u001b[39m==\u001b[39m y\u001b[39m.\u001b[39msize \u001b[39m==\u001b[39m w\u001b[39m.\u001b[39msize:\n\u001b[1;32m    264\u001b[0m     \u001b[39mraise\u001b[39;00m \u001b[39mValueError\u001b[39;00m(\u001b[39m\"\u001b[39m\u001b[39mx, y, and w should have a same length\u001b[39m\u001b[39m\"\u001b[39m)\n",
      "\u001b[0;31mValueError\u001b[0m: x and y should have a same length"
     ]
    }
   ],
   "source": [
    "from scipy.interpolate import UnivariateSpline\n",
    "\n",
    "# Create a UnivariateSpline object\n",
    "x = [1, 2, 3, 4, 5]\n",
    "y = [2, 4, 1, 5, 3]\n",
    "spline = UnivariateSpline(x, y)\n",
    "\n",
    "# Get the coefficients of the UnivariateSpline object\n",
    "tck = spline._eval_args\n",
    "\n",
    "# Recreate the UnivariateSpline object using the coefficients and the x data\n",
    "spline_new = UnivariateSpline(spline._data[0], None, k=spline._data[2], s=spline._data[3])\n",
    "spline_new._eval_args = tck\n",
    "\n",
    "# Test that the new spline is the same as the original\n",
    "assert spline(x).all() == spline_new(x).all()"
   ]
  },
  {
   "cell_type": "code",
   "execution_count": 24,
   "metadata": {},
   "outputs": [
    {
     "data": {
      "text/plain": [
       "<function IPython.core.display_functions.display(*objs, include=None, exclude=None, metadata=None, transient=None, display_id=None, raw=False, clear=False, **kwargs)>"
      ]
     },
     "execution_count": 24,
     "metadata": {},
     "output_type": "execute_result"
    }
   ],
   "source": [
    "display.display_functions.display"
   ]
  },
  {
   "cell_type": "code",
   "execution_count": 25,
   "metadata": {},
   "outputs": [],
   "source": [
    "import ipywidgets as widgets\n",
    "import matplotlib.pyplot as plt\n",
    "from IPython.core import display\n",
    "display = display.display_functions.display\n",
    "\n",
    "\n",
    "def but(name):\n",
    "    button = widgets.Button(description=name)\n",
    "    def on_button_click(b):\n",
    "        print(f\"Button {name} clicked.\")\n",
    "\n",
    "\n",
    "    button.on_click(on_button_click)\n",
    "    display(button)\n",
    "    display(button)\n",
    "    return button"
   ]
  },
  {
   "cell_type": "code",
   "execution_count": 26,
   "metadata": {},
   "outputs": [],
   "source": [
    "def plot_data():\n",
    "    plt.figure()\n",
    "    plt.plot([1,2], [3,4])\n",
    "    plt.show()"
   ]
  },
  {
   "cell_type": "code",
   "execution_count": 33,
   "metadata": {},
   "outputs": [],
   "source": [
    "def create_button(func, *args):\n",
    "    \"\"\"Create a button with name of the function and run function onclick.\"\"\"\n",
    "    name = func.__name__.replace('_', ' ')\n",
    "    button = widgets.Button(description=name)\n",
    "\n",
    "    def on_button_click(_):\n",
    "        func(*args)\n",
    "\n",
    "    button.on_click(on_button_click)\n",
    "    display(button)\n",
    "    display(button)\n",
    "    return button"
   ]
  },
  {
   "cell_type": "code",
   "execution_count": 34,
   "metadata": {},
   "outputs": [
    {
     "data": {
      "application/vnd.jupyter.widget-view+json": {
       "model_id": "edcab43aa7554c3a94c370113627b890",
       "version_major": 2,
       "version_minor": 0
      },
      "text/plain": [
       "Button(description='plot data', style=ButtonStyle())"
      ]
     },
     "metadata": {},
     "output_type": "display_data"
    },
    {
     "data": {
      "application/vnd.jupyter.widget-view+json": {
       "model_id": "edcab43aa7554c3a94c370113627b890",
       "version_major": 2,
       "version_minor": 0
      },
      "text/plain": [
       "Button(description='plot data', style=ButtonStyle())"
      ]
     },
     "metadata": {},
     "output_type": "display_data"
    },
    {
     "data": {
      "application/vnd.jupyter.widget-view+json": {
       "model_id": "edcab43aa7554c3a94c370113627b890",
       "version_major": 2,
       "version_minor": 0
      },
      "text/plain": [
       "Button(description='plot data', style=ButtonStyle())"
      ]
     },
     "execution_count": 34,
     "metadata": {},
     "output_type": "execute_result"
    }
   ],
   "source": [
    "create_button(plot_data)"
   ]
  },
  {
   "cell_type": "code",
   "execution_count": 2,
   "metadata": {},
   "outputs": [
    {
     "data": {
      "application/vnd.jupyter.widget-view+json": {
       "model_id": "53681c345f224277a6aebc5de81a9e40",
       "version_major": 2,
       "version_minor": 0
      },
      "text/plain": [
       "Button(description='h2', style=ButtonStyle())"
      ]
     },
     "metadata": {},
     "output_type": "display_data"
    },
    {
     "data": {
      "application/vnd.jupyter.widget-view+json": {
       "model_id": "53681c345f224277a6aebc5de81a9e40",
       "version_major": 2,
       "version_minor": 0
      },
      "text/plain": [
       "Button(description='h2', style=ButtonStyle())"
      ]
     },
     "metadata": {},
     "output_type": "display_data"
    },
    {
     "data": {
      "application/vnd.jupyter.widget-view+json": {
       "model_id": "14108e8968424db6b32bae2040b91331",
       "version_major": 2,
       "version_minor": 0
      },
      "text/plain": [
       "Button(description='h3', style=ButtonStyle())"
      ]
     },
     "metadata": {},
     "output_type": "display_data"
    },
    {
     "data": {
      "application/vnd.jupyter.widget-view+json": {
       "model_id": "14108e8968424db6b32bae2040b91331",
       "version_major": 2,
       "version_minor": 0
      },
      "text/plain": [
       "Button(description='h3', style=ButtonStyle())"
      ]
     },
     "metadata": {},
     "output_type": "display_data"
    },
    {
     "name": "stdout",
     "output_type": "stream",
     "text": [
      "Button h2 clicked.\n"
     ]
    },
    {
     "data": {
      "image/png": "[encoded data removed]",
      "text/plain": [
       "<Figure size 640x480 with 1 Axes>"
      ]
     },
     "metadata": {},
     "output_type": "display_data"
    },
    {
     "name": "stdout",
     "output_type": "stream",
     "text": [
      "Button h3 clicked.\n"
     ]
    },
    {
     "data": {
      "image/png": "[encoded data removed]",
      "text/plain": [
       "<Figure size 640x480 with 1 Axes>"
      ]
     },
     "metadata": {},
     "output_type": "display_data"
    }
   ],
   "source": [
    "h1 = but(\"h2\")\n",
    "h2 = but(\"h3\")"
   ]
  },
  {
   "cell_type": "code",
   "execution_count": 3,
   "metadata": {},
   "outputs": [],
   "source": [
    "from labmate.syncdata import SyncData"
   ]
  },
  {
   "cell_type": "code",
   "execution_count": null,
   "metadata": {},
   "outputs": [],
   "source": [
    "from labmate.utils import autoreload"
   ]
  },
  {
   "cell_type": "code",
   "execution_count": 4,
   "metadata": {},
   "outputs": [],
   "source": [
    "from IPython.core.getipython import get_ipython\n",
    "shell = get_ipython()"
   ]
  },
  {
   "cell_type": "code",
   "execution_count": 8,
   "metadata": {},
   "outputs": [
    {
     "name": "stdout",
     "output_type": "stream",
     "text": [
      "12\n"
     ]
    }
   ],
   "source": [
    "print(12)\n",
    "shell.cleanup()"
   ]
  },
  {
   "cell_type": "code",
   "execution_count": null,
   "metadata": {},
   "outputs": [],
   "source": []
  }
 ],
 "metadata": {
  "kernelspec": {
   "display_name": "phd_mask",
   "language": "python",
   "name": "python3"
  },
  "language_info": {
   "codemirror_mode": {
    "name": "ipython",
    "version": 3
   },
   "file_extension": ".py",
   "mimetype": "text/x-python",
   "name": "python",
   "nbconvert_exporter": "python",
   "pygments_lexer": "ipython3",
   "version": "3.10.11"
  },
  "orig_nbformat": 4
 },
 "nbformat": 4,
 "nbformat_minor": 2
}
